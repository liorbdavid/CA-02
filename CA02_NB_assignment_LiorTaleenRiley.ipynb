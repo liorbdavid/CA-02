{
 "cells": [
  {
   "cell_type": "markdown",
   "metadata": {
    "colab_type": "text",
    "id": "iCZYXwtCsL_y"
   },
   "source": [
    "CA02: This is a eMail Spam Classifers that uses Naive Bayes supervised machine learning algorithm. \n",
    "\n",
    "In this assignment you will ...\n",
    "1. Complete the code such a way that it works correctly with this given parts of the program.\n",
    "2. Explain as clearly as possible what each part of the code is doing. Use \"Markdown\" texts and code commenting to explain the code\n",
    "\n",
    "IMPORTANT NOTE:\n",
    "\n",
    "The path of your data folders 'train-mails' and 'test-mails' must be './train-mails' and './test-mails'. This means you must have your .ipynb file and these folders in the SAME FOLDER in your laptop or Google Drive. The reason for doing this is, this way the peer reviewes and I would be able to run your code from our computers using this exact same relative path, irrespective of our folder hierarchy."
   ]
  },
  {
   "cell_type": "code",
   "execution_count": 64,
   "metadata": {
    "colab": {},
    "colab_type": "code",
    "id": "4p_DvtT7sOIr",
    "jupyter": {
     "outputs_hidden": true
    }
   },
   "outputs": [],
   "source": [
    "import os\n",
    "import numpy as np\n",
    "from collections import Counter\n",
    "\n",
    "from sklearn.naive_bayes import GaussianNB # import necessary model for naive bayes\n",
    "from sklearn import metrics # import necessary package to access accuracy stats of the model"
   ]
  },
  {
   "cell_type": "code",
   "execution_count": 65,
   "metadata": {
    "colab": {},
    "colab_type": "code",
    "id": "jjKF0nIMwz8_",
    "jupyter": {
     "outputs_hidden": true
    }
   },
   "outputs": [],
   "source": [
    "'''folder refers to a folder that contains files. \n",
    "The purpose of this function is to take part of the content of the \n",
    "files and insert them into a python dictionary\n",
    "\n",
    "In this case, the folder contains files that are separate emails.\n",
    "Each email will be separated into their individual words then the unique words and\n",
    "their frequencies will be placed in a dictionary.'''\n",
    "\n",
    "def make_Dict(folder): \n",
    "  all_words = [] # define an empty list for adding to later in the function\n",
    "  emails = [os.path.join(folder,f) for f in os.listdir(folder)] # listdir(folder) returns a list of the file names then each of those file names is concatenated to the folder name to create a valid path to the file within the folder. All of the valid paths are placed in a list\n",
    "  for mail in emails: # iterate through each email file path in the list created above\n",
    "    with open(mail) as m: # open the file then refer to it as \"m\"\n",
    "      for line in m: # iterate through each line of the email\n",
    "        words = line.split() # split the current line of email into a list of words, default separator is any whitespace\n",
    "        all_words += words # add the list of words to the all_words list defined initially\n",
    "  dictionary = Counter(all_words) # counter takes the list of all words then returns the unique words as keys and their counts as the values\n",
    "  list_to_remove = list(dictionary) # this takes the unique words from the dictionary created and places them in a list\n",
    "\n",
    "  for item in list_to_remove: # iterate through list of all unique words\n",
    "    if item.isalpha() == False: # isaplha checks if all of the characters in the unique word are letters\n",
    "      del dictionary[item] # if all of the characters are not letters then the word is removed from the dictionary\n",
    "    elif len(item) <= 2: # if all of the characters are letters but there is two or less characters in the word then the word is deleted.\n",
    "      del dictionary[item]\n",
    "  dictionary = dictionary.most_common(word_count) # redefine the dictionary such that it only contains a specified amount of the most common words\n",
    "  return dictionary # the end product is a dictionary with the most common words and how frequently they appear\n",
    "            "
   ]
  },
  {
   "cell_type": "code",
   "execution_count": 66,
   "metadata": {
    "colab": {},
    "colab_type": "code",
    "id": "dmVW5xNlyOFc",
    "jupyter": {
     "outputs_hidden": true
    }
   },
   "outputs": [],
   "source": [
    "''' This function creates the matrices that we will use to train the Gaussian model.\n",
    "The function goes through each email file and counts how frequently the most common words occur in the email.\n",
    "The most common words are determined by the function we defined in the previous cell.'''\n",
    "\n",
    "def extract_features(mail_dir):\n",
    "  files = [os.path.join(mail_dir,fi) for fi in os.listdir(mail_dir)] # this is the same as the emails code in the above function\n",
    "  features_matrix = np.zeros((len(files),word_count)) # creates numpy array with a row for each file and a column for each unique word. The array is initially filled with zeros\n",
    "  train_labels = np.zeros(len(files)) # creates numpy array with a row for each file and one column. The values will correspond to whether the file represents a spam email or not (1=spam)\n",
    "  docID = 0; # initiate docID as 0\n",
    "  for fil in files: # iterate through each email\n",
    "    with open(fil) as fi: # designate opened email as \"fi\"\n",
    "      for i, line in enumerate(fi): # enumerate separates the email into tuples with an index then part of the content of the email corresponding to that index\n",
    "        if i ==2: # index 2 is associated with the text of the email which is what we are interested in\n",
    "          words = line.split() # split the text of the email by the whitespace, placing each word in the email in a list\n",
    "          for word in words: # iterate through each of the words in the list created from the email above\n",
    "            wordID = 0 # initiate wordID as zero\n",
    "            for i, d in enumerate(dictionary): # dictionary must be defined before using function - will use previous function to create dictionary from training emails\n",
    "              if d[0] == word: # if word selected from email equals the word from the dictionary \n",
    "                wordID = i # then wordID is set to the index of the word in the dictionary\n",
    "                features_matrix[docID,wordID] = words.count(word) # alter the features matrix according to the count of the word in the current email. \n",
    "      train_labels[docID] = 0; # initiate email label as 0, meaning the email is not spam\n",
    "      filepathTokens = fil.split('\\\\') # changed original code from / to \\\\ because the labels were not being defined correctly\n",
    "        # use the file path name to determine if the email is spam or not\n",
    "      lastToken = filepathTokens[len(filepathTokens)-1] # extract the last piece of the path to determine if the email is labeled as spam\n",
    "      if lastToken.startswith(\"spmsg\"): # if the path contains \"spmsg\" then the train_labels list is updated to 1\n",
    "        train_labels[docID] = 1; # change label to indicate spam \n",
    "      docID = docID + 1 # increase docID by one, meaning we begin looking at the next email and start the process over\n",
    "  return features_matrix, train_labels                "
   ]
  },
  {
   "cell_type": "code",
   "execution_count": 67,
   "metadata": {
    "colab": {},
    "colab_type": "code",
    "id": "zoq-rE7Mx0pp",
    "jupyter": {
     "outputs_hidden": true
    }
   },
   "outputs": [],
   "source": [
    "# Enter the \"path\" of your \"train_mails\" and \"test-mails\" FOLDERS in this cell ...\n",
    "TRAIN_DIR = './train-mails' # set up path to training set to use in extract_features function\n",
    "TEST_DIR = './test-mails' # set up path to test set to use in extract_features function "
   ]
  },
  {
   "cell_type": "code",
   "execution_count": 68,
   "metadata": {
    "colab": {
     "base_uri": "https://localhost:8080/",
     "height": 119
    },
    "colab_type": "code",
    "executionInfo": {
     "elapsed": 127480,
     "status": "ok",
     "timestamp": 1578886833446,
     "user": {
      "displayName": "Arin Brahma",
      "photoUrl": "https://lh3.googleusercontent.com/a-/AAuE7mBXGIW7FvUnbm_QmEFGh4rLebuLHNZgc8PuNinU=s64",
      "userId": "05299564422021375910"
     },
     "user_tz": 480
    },
    "id": "134lmhauyQxE",
    "outputId": "83cce6a6-aff5-4e93-ef0a-700606437aa9"
   },
   "outputs": [
    {
     "name": "stdout",
     "output_type": "stream",
     "text": [
      "reading and processing emails from TRAIN and TEST folders\n"
     ]
    }
   ],
   "source": [
    "word_count = 4000 # this determines how long the list of common words should be that will go in the dictionary\n",
    "dictionary = make_Dict(TRAIN_DIR) # using training emails to determine list of most common words\n",
    "\n",
    "print (\"reading and processing emails from TRAIN and TEST folders\")\n",
    "features_matrix, labels = extract_features(TRAIN_DIR) # use function to get word frequencies and labels\n",
    "test_features_matrix, test_labels = extract_features(TEST_DIR) #  use function to get word frequencies and labels of test data"
   ]
  },
  {
   "cell_type": "code",
   "execution_count": 69,
   "metadata": {},
   "outputs": [
    {
     "name": "stdout",
     "output_type": "stream",
     "text": [
      "Training Model using Gaussian Naive Bayes algorithm .....\n",
      "Training completed\n",
      "testing trained model to predict Test Data labels\n",
      "Completed classification of the Test Data .... \n",
      " now printing Accuracy Score by comparing the Predicted Labels with the Test Labels:\n",
      "Accuracy: 96.53846153846153\n",
      "Confusion Matrix \n",
      " [[129   1]\n",
      " [  8 122]]\n",
      "Recall: 93.84615384615384\n",
      "Precision: 99.1869918699187\n"
     ]
    }
   ],
   "source": [
    "new_train = features_matrix[:,:3000] # define new training set by keeping 3000 most common words\n",
    "new_label = labels\n",
    "new_test = test_features_matrix[:,:3000] # define new test set by keeping 3000 most common words\n",
    "new_t_label = test_labels\n",
    "\n",
    "# TRAIN the model using Naive Bayes algorithm, then PREDICT and then evaluate PERFORMANCE (Accuracy)\n",
    "print(\"Training Model using Gaussian Naive Bayes algorithm .....\")\n",
    "cnb = GaussianNB() # set up algorithm \n",
    "cnb.fit(new_train, new_label) # use training data and corresponding labels to set up the algorithm\n",
    "print(\"Training completed\")\n",
    "\n",
    "print(\"testing trained model to predict Test Data labels\")\n",
    "label_predict = cnb.predict(new_test) # use trained model to predict test set\n",
    "\n",
    "print(\"Completed classification of the Test Data ....\",\"\\n\",\"now printing Accuracy Score by comparing the Predicted Labels with the Test Labels:\")\n",
    "print(\"Accuracy:\",metrics.accuracy_score(new_t_label, label_predict)*100) # print out accuracy\n",
    "print(\"Confusion Matrix\",\"\\n\",metrics.confusion_matrix(new_t_label, label_predict)) # print confusion matrix\n",
    "print(\"Recall:\",metrics.recall_score(new_t_label, label_predict)*100) # print recall of model\n",
    "print(\"Precision:\",metrics.precision_score(new_t_label, label_predict)*100) # print precision of model\n"
   ]
  },
  {
   "cell_type": "code",
   "execution_count": 70,
   "metadata": {},
   "outputs": [],
   "source": [
    "# import pandas dataframe to use in for loop\n",
    "import pandas as pd"
   ]
  },
  {
   "cell_type": "code",
   "execution_count": 87,
   "metadata": {},
   "outputs": [],
   "source": [
    "# set up for loop to train model with different length dictionaries then add results to a dataframe\n",
    "df = pd.DataFrame(columns=['Dict_len', 'Accuracy', 'Precision','Recall']) # initiate dataframe\n",
    "for i in range(100,4050,10): # use dictionaries from length 100 to 4,050 in increments of 10\n",
    "    new_train = features_matrix[:,:i] # define new training set by keeping i most common words\n",
    "    new_label = labels\n",
    "    new_test = test_features_matrix[:,:i] # define new test set by keeping i most common words\n",
    "    new_t_label = test_labels\n",
    "\n",
    "    # In this section enter your code to TRAIN the model using Naive Bayes algorithm, then PREDICT and then evaluate PERFORMANCE (Accuracy)\n",
    "    cnb = GaussianNB() # set up algorithm \n",
    "    cnb.fit(new_train, new_label) # use training data and corresponding labels to set up the algorithm\n",
    "\n",
    "    label_predict = cnb.predict(new_test) # use trained model to predict test set \n",
    "    \n",
    "    acc = round(metrics.accuracy_score(new_t_label, label_predict)*100,2) # assign accuracy to variable and round to 2 decimals\n",
    "    rec = round(metrics.recall_score(new_t_label, label_predict)*100,2) # assign recall to variable and round to 2 decimals\n",
    "    prec = round(metrics.precision_score(new_t_label, label_predict)*100,2) # assign precision to variable and round to 2 decimals\n",
    "    \n",
    "    df.loc[i] = [i, acc, prec, rec]\n",
    "    "
   ]
  },
  {
   "cell_type": "code",
   "execution_count": 89,
   "metadata": {},
   "outputs": [
    {
     "data": {
      "text/html": [
       "<div>\n",
       "<style scoped>\n",
       "    .dataframe tbody tr th:only-of-type {\n",
       "        vertical-align: middle;\n",
       "    }\n",
       "\n",
       "    .dataframe tbody tr th {\n",
       "        vertical-align: top;\n",
       "    }\n",
       "\n",
       "    .dataframe thead th {\n",
       "        text-align: right;\n",
       "    }\n",
       "</style>\n",
       "<table border=\"1\" class=\"dataframe\">\n",
       "  <thead>\n",
       "    <tr style=\"text-align: right;\">\n",
       "      <th></th>\n",
       "      <th>Dict_len</th>\n",
       "      <th>Accuracy</th>\n",
       "      <th>Precision</th>\n",
       "      <th>Recall</th>\n",
       "    </tr>\n",
       "  </thead>\n",
       "  <tbody>\n",
       "    <tr>\n",
       "      <th>1670</th>\n",
       "      <td>1670.0</td>\n",
       "      <td>98.08</td>\n",
       "      <td>99.21</td>\n",
       "      <td>96.92</td>\n",
       "    </tr>\n",
       "    <tr>\n",
       "      <th>1680</th>\n",
       "      <td>1680.0</td>\n",
       "      <td>98.08</td>\n",
       "      <td>99.21</td>\n",
       "      <td>96.92</td>\n",
       "    </tr>\n",
       "    <tr>\n",
       "      <th>1690</th>\n",
       "      <td>1690.0</td>\n",
       "      <td>98.08</td>\n",
       "      <td>99.21</td>\n",
       "      <td>96.92</td>\n",
       "    </tr>\n",
       "    <tr>\n",
       "      <th>1700</th>\n",
       "      <td>1700.0</td>\n",
       "      <td>98.08</td>\n",
       "      <td>99.21</td>\n",
       "      <td>96.92</td>\n",
       "    </tr>\n",
       "    <tr>\n",
       "      <th>1710</th>\n",
       "      <td>1710.0</td>\n",
       "      <td>98.08</td>\n",
       "      <td>99.21</td>\n",
       "      <td>96.92</td>\n",
       "    </tr>\n",
       "  </tbody>\n",
       "</table>\n",
       "</div>"
      ],
      "text/plain": [
       "      Dict_len  Accuracy  Precision  Recall\n",
       "1670    1670.0     98.08      99.21   96.92\n",
       "1680    1680.0     98.08      99.21   96.92\n",
       "1690    1690.0     98.08      99.21   96.92\n",
       "1700    1700.0     98.08      99.21   96.92\n",
       "1710    1710.0     98.08      99.21   96.92"
      ]
     },
     "execution_count": 89,
     "metadata": {},
     "output_type": "execute_result"
    }
   ],
   "source": [
    "# print out dictionary lengths that returns the highest accuracy\n",
    "df[df['Accuracy']==df['Accuracy'].max()]\n",
    "\n",
    "# in the output we see that the dictionary lengths of 1,670 to 1710 words get us our maximum accuracy"
   ]
  },
  {
   "cell_type": "code",
   "execution_count": 79,
   "metadata": {},
   "outputs": [],
   "source": [
    "import matplotlib.pyplot as plt # import pyplot to visualize how the length of dictionary affects the accuracy"
   ]
  },
  {
   "cell_type": "code",
   "execution_count": 90,
   "metadata": {},
   "outputs": [
    {
     "data": {
      "image/png": "[encoded data removed]",
      "text/plain": [
       "<Figure size 640x480 with 1 Axes>"
      ]
     },
     "metadata": {},
     "output_type": "display_data"
    }
   ],
   "source": [
    "# use pyplot to graph length and accuracy\n",
    "plt.plot(df['Dict_len'],df['Accuracy'])\n",
    "plt.xlabel('Dictionary Length')\n",
    "plt.ylabel('Accuracy')\n",
    "plt.show()"
   ]
  },
  {
   "cell_type": "code",
   "execution_count": null,
   "metadata": {},
   "outputs": [],
   "source": [
    "''' We can see from the graph there are diminishing returns to using a larger dictionary.\n",
    "Once the dictionary length reaches approximately 1200 there is not a significant change in the\n",
    "accuracy. '''"
   ]
  },
  {
   "cell_type": "markdown",
   "metadata": {
    "colab_type": "text",
    "id": "M5_mPrvN586A"
   },
   "source": [
    "======================= END OF PROGRAM ========================="
   ]
  }
 ],
 "metadata": {
  "colab": {
   "authorship_tag": "ABX9TyOaSi3qlFUlqTup/1esXCKD",
   "collapsed_sections": [],
   "name": "naive_bayes.ipynb",
   "provenance": []
  },
  "kernelspec": {
   "display_name": "Python 3 (ipykernel)",
   "language": "python",
   "name": "python3"
  },
  "language_info": {
   "codemirror_mode": {
    "name": "ipython",
    "version": 3
   },
   "file_extension": ".py",
   "mimetype": "text/x-python",
   "name": "python",
   "nbconvert_exporter": "python",
   "pygments_lexer": "ipython3",
   "version": "3.10.13"
  }
 },
 "nbformat": 4,
 "nbformat_minor": 4
}
